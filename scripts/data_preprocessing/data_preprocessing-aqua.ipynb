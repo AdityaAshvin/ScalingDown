{
 "cells": [
  {
   "cell_type": "markdown",
   "source": [
    "# Data Preprocessing for AQUA-RAT Dataset"
   ],
   "metadata": {
    "collapsed": false
   },
   "id": "b0ed34c7696a9d78"
  },
  {
   "cell_type": "markdown",
   "source": [
    "## Introduction\n",
    "In this notebook, we will preprocess the AQUA-RAT dataset to prepare it for training our student-teacher model. The preprocessing steps include loading the data, cleaning, tokenizing, and preparing the dataset for model training."
   ],
   "metadata": {
    "collapsed": false
   },
   "id": "d7014879d8c8c6e1"
  },
  {
   "cell_type": "code",
   "execution_count": 2,
   "outputs": [],
   "source": [
    "import json\n",
    "import pandas as pd\n",
    "import numpy as np\n",
    "from transformers import T5Tokenizer\n",
    "import sentencepiece\n",
    "import json"
   ],
   "metadata": {
    "collapsed": false,
    "ExecuteTime": {
     "end_time": "2024-09-30T07:48:49.135870Z",
     "start_time": "2024-09-30T07:48:48.587611Z"
    }
   },
   "id": "617aeec01fb36066"
  },
  {
   "cell_type": "code",
   "execution_count": 3,
   "outputs": [],
   "source": [
    "TRAIN_DATA_PATH = \"../../data/AQuA/train.json\"\n",
    "TEST_DATA_PATH = \"../../data/AQuA/test.json\"\n",
    "VAL_DATA_PATH = \"../../data/AQuA/dev.json\""
   ],
   "metadata": {
    "collapsed": false,
    "ExecuteTime": {
     "end_time": "2024-09-30T07:48:49.140105Z",
     "start_time": "2024-09-30T07:48:48.595371Z"
    }
   },
   "id": "cbf64392f289085"
  },
  {
   "cell_type": "markdown",
   "source": [
    "### Load Data\n",
    "- Train set = train.json\n",
    "- Test set  = test.json\n",
    "- Validation set = dev.json "
   ],
   "metadata": {
    "collapsed": false
   },
   "id": "caf50f56de65fa6b"
  },
  {
   "cell_type": "code",
   "execution_count": 4,
   "outputs": [],
   "source": [
    "train_data_raw = []\n",
    "test_data_raw = []\n",
    "val_data_rev = []\n",
    "with open(TRAIN_DATA_PATH, \"r\") as file:    \n",
    "    for line in file:\n",
    "        train_data_raw.append(json.loads(line))\n",
    "with open(TEST_DATA_PATH, \"r\") as file:    \n",
    "    for line in file:\n",
    "        test_data_raw.append(json.loads(line))\n",
    "with open(VAL_DATA_PATH, \"r\") as file:    \n",
    "    for line in file:\n",
    "        val_data_rev.append(json.loads(line))"
   ],
   "metadata": {
    "collapsed": false,
    "ExecuteTime": {
     "end_time": "2024-09-30T07:48:49.236696Z",
     "start_time": "2024-09-30T07:48:48.627528Z"
    }
   },
   "id": "1907ecfd8f8f8953"
  },
  {
   "cell_type": "markdown",
   "source": [
    "### Inspect Data\n",
    "Take a look on train data"
   ],
   "metadata": {
    "collapsed": false
   },
   "id": "a238269d2bd8bc5e"
  },
  {
   "cell_type": "code",
   "execution_count": 5,
   "id": "initial_id",
   "metadata": {
    "collapsed": true,
    "ExecuteTime": {
     "end_time": "2024-09-30T07:48:49.239699Z",
     "start_time": "2024-09-30T07:48:49.055707Z"
    }
   },
   "outputs": [
    {
     "name": "stdout",
     "output_type": "stream",
     "text": [
      "{\n",
      "    \"question\": \"Two friends plan to walk along a 43-km trail, starting at opposite ends of the trail at the same time. If Friend P's rate is 15% faster than Friend Q's, how many kilometers will Friend P have walked when they pass each other?\",\n",
      "    \"options\": [\n",
      "        \"A)21\",\n",
      "        \"B)21.5\",\n",
      "        \"C)22\",\n",
      "        \"D)22.5\",\n",
      "        \"E)23\"\n",
      "    ],\n",
      "    \"rationale\": \"If Q complete x kilometers, then P completes 1.15x kilometers.\\nx + 1.15x = 43\\n2.15x=43\\nx = 43/2.15 = 20\\nThen P will have have walked 1.15*20=23 km.\\nThe answer is E.\",\n",
      "    \"correct\": \"E\"\n",
      "}\n",
      "{\n",
      "    \"question\": \"In the coordinate plane, points (x, 1) and (5, y) are on line k. If line k passes through the origin and has slope 1/5, then what are the values of x and y respectively?\",\n",
      "    \"options\": [\n",
      "        \"A)4 and 1\",\n",
      "        \"B)1 and 5\",\n",
      "        \"C)5 and 1\",\n",
      "        \"D)3 and 5\",\n",
      "        \"E)5 and 3\"\n",
      "    ],\n",
      "    \"rationale\": \"Line k passes through the origin and has slope 1/5 means that its equation is y=1/5*x.\\nThus: (x, 1)=(5, 1) and (5, y) = (5,1) -->x=5 and y=1\\nAnswer: C\",\n",
      "    \"correct\": \"C\"\n",
      "}\n",
      "{\n",
      "    \"question\": \"For all numbers p and q, the operation @ is defined by p@q = p^2 - pq. If xy \\u2260 0, then which of the following can be equal to zero?\\nI. x@y\\nII. (xy)@y\\nIII. x@(x + y)\",\n",
      "    \"options\": [\n",
      "        \"A)II\",\n",
      "        \"B)I and II\",\n",
      "        \"C)I and III\",\n",
      "        \"D)II and III\",\n",
      "        \"E)All of the above\"\n",
      "    ],\n",
      "    \"rationale\": \"p@q = p^2 - pq=p(p-q).... so p@q will be zero if p=q or p=0.. but a cannot be equal to 0.. as per Q, x and y can take any int value except 0...\\nnow lets look at the choices..\\nwhen x=y, it will be 0... so ok...\\nwhen we put xy=y, it is possible when x=1 and y any integer... so ok again\\nwhen we put x=x+y.... only possibility when y=0 and it is given x and y cannot be 0....so not possible\\nonly l and ll possible ans B....\",\n",
      "    \"correct\": \"B\"\n",
      "}\n",
      "{\n",
      "    \"question\": \"Carl is facing very difficult financial times and can only pay the interest on a $10,000 loan he has taken. The bank charges him a quarterly compound rate of 4%. What is the approximate interest he pays annually?\",\n",
      "    \"options\": [\n",
      "        \"A)$1600\",\n",
      "        \"B)$2000\",\n",
      "        \"C)$2150\",\n",
      "        \"D)$2500\",\n",
      "        \"E)$12000\"\n",
      "    ],\n",
      "    \"rationale\": \"Usually, you are given the annual rate of interest and it is mentioned that it is annual rate.\\nThe bank charges him a quarterly compounded ANNUAL rate of 16%.\\nHere you find per quarter rate as (16/4)% = 4%\\nI have actually never seen a question with quarter rate given but since this question did not mentionannual rate of interestand since the options did not make sense with 4% annual rate of interest, it is apparent that the intent was a 4% quarterly rate. So the bank charges 4% every quarter and compounds it in the next quarter. Had it been a simple quarterly rate, we would have just found 4 * 4% of 10,000 = $1600 as our answer.\\nBut since, the interest is compounded, it will be a bit more than $1600. Option (A) looks correct.\",\n",
      "    \"correct\": \"A\"\n",
      "}\n",
      "{\n",
      "    \"question\": \"The speed at which a man can row a boat in still water is 25 kmph. If he rows downstream, where the speed of current is 11 kmph, what time will he take to cover 80 metres?\",\n",
      "    \"options\": [\n",
      "        \"A)18 seconds\",\n",
      "        \"B)27 seconds\",\n",
      "        \"C)26 seconds\",\n",
      "        \"D)12 seconds\",\n",
      "        \"E)8 seconds\"\n",
      "    ],\n",
      "    \"rationale\": \"Speed of the boat downstream = 25 +11\\n= 36 kmph\\n= 36 * 5/18 = 10 m/s\\nHence time taken to cover 80 m = 80/10\\n= 8 seconds.\\nAnswer:E\",\n",
      "    \"correct\": \"E\"\n",
      "}\n",
      "{\n",
      "    \"question\": \"There are k-2 members in a certain band, including Jim and Ellen. Two members are to be selected to attend the Grammy awards ceremony. If there are 6 possible combinations in which Jim and Ellen are not selected, what is the value of k?\",\n",
      "    \"options\": [\n",
      "        \"A)8\",\n",
      "        \"B)9\",\n",
      "        \"C)10\",\n",
      "        \"D)11\",\n",
      "        \"E)12\"\n",
      "    ],\n",
      "    \"rationale\": \"There are k-2 members in the band, and k-4 members without Jim and Ellen.\\n(k-4)C2 = 6\\n(k-4)(k-5)/2 = 6\\n(k-4)(k-5) = 12 = 4*3\\nk = 8\\nThe answer is A.\",\n",
      "    \"correct\": \"A\"\n",
      "}\n",
      "{\n",
      "    \"question\": \"If (x^2 + 4x - 11)/5 \\u2264 x + 1, then x could be represented by which of the following?\",\n",
      "    \"options\": [\n",
      "        \"A)\\u2212 3 \\u2264 x \\u2264 4\",\n",
      "        \"B)\\u2212 4 \\u2264 x \\u2264 3\",\n",
      "        \"C)\\u2212 3 \\u2264 x \\u2264 3\",\n",
      "        \"D)\\u2212 4 \\u2264 x \\u2264 \\u2212 3\",\n",
      "        \"E)3 \\u2264 x \\u2264 4\"\n",
      "    ],\n",
      "    \"rationale\": \"IMO A is correct answer\\nsolving through eqautions\\nx^2 +4x-11<= 5x+5\\n(x+3)(x-4)<=0\",\n",
      "    \"correct\": \"A\"\n",
      "}\n",
      "{\n",
      "    \"question\": \"Find the smallest number of five digits exactly divisible by 22,33,66 and 44.\",\n",
      "    \"options\": [\n",
      "        \"A)10101\",\n",
      "        \"B)11000\",\n",
      "        \"C)10110\",\n",
      "        \"D)10111\",\n",
      "        \"E)10100\"\n",
      "    ],\n",
      "    \"rationale\": \"Smallest number of five digits is 10000.\\nRequired number must be divisible by L.C.M. of 22,33,66,44 i.e 132,\\nOn dividing 10000 by 132,we get 32 as remainder.\\nTherefore, Required number = 10000 +( 132 \\u00e2\\u20ac\\u201c 32 ) = 10100.\\nAnswer is E.\",\n",
      "    \"correct\": \"E\"\n",
      "}\n",
      "{\n",
      "    \"question\": \"The entrance fee for a fair is $5 for persons under the age of 18, and 20% more for persons older. Each ride at the fair costs $0.50. If Joe goes with her 6 years old twin brothers, and they each took 3 rides in total. How much money does Joe end up spending at the fair?\",\n",
      "    \"options\": [\n",
      "        \"A)16\",\n",
      "        \"B)20.5\",\n",
      "        \"C)17.5\",\n",
      "        \"D)20\",\n",
      "        \"E)4.5\"\n",
      "    ],\n",
      "    \"rationale\": \"Total entrance fee is (2*$5) + (1.20*5)= $16\\nTotal rides fee is (0.50*3)*3= $4.50\\nTotal money spent is $20.50\\nAnswer is B\",\n",
      "    \"correct\": \"B\"\n",
      "}\n",
      "{\n",
      "    \"question\": \"If X and Y are digits and 8XY is a 3-digit number that is divisible by 2, which of the following is a possible product of X and Y?\",\n",
      "    \"options\": [\n",
      "        \"A)15\",\n",
      "        \"B)31\",\n",
      "        \"C)12\",\n",
      "        \"D)27\",\n",
      "        \"E)91\"\n",
      "    ],\n",
      "    \"rationale\": \"Key to this question is to remember the fact that a number divisible by 2 must end with even OR 0 (i.e Y).\\nIf Y had to be 0, product should also be 0 regardless of X.\\nOtherwise, product is a multiple of 2. Only one answer choice meets the requirement.\\nAns C.\",\n",
      "    \"correct\": \"C\"\n",
      "}\n"
     ]
    }
   ],
   "source": [
    "for element in train_data_raw[:10]:\n",
    "    print(json.dumps(element, indent=4))"
   ]
  },
  {
   "cell_type": "markdown",
   "source": [
    "## Data Transformation"
   ],
   "metadata": {
    "collapsed": false
   },
   "id": "5658e4a79dd4a114"
  },
  {
   "cell_type": "code",
   "execution_count": 6,
   "outputs": [
    {
     "data": {
      "text/plain": "                                            question  \\\n0  Two friends plan to walk along a 43-km trail, ...   \n1  In the coordinate plane, points (x, 1) and (5,...   \n2  For all numbers p and q, the operation @ is de...   \n3  Carl is facing very difficult financial times ...   \n4  The speed at which a man can row a boat in sti...   \n\n                                             options  \\\n0                 [A)21, B)21.5, C)22, D)22.5, E)23]   \n1  [A)4 and 1, B)1 and 5, C)5 and 1, D)3 and 5, E...   \n2  [A)II, B)I and II, C)I and III, D)II and III, ...   \n3     [A)$1600, B)$2000, C)$2150, D)$2500, E)$12000]   \n4  [A)18 seconds, B)27 seconds, C)26 seconds, D)1...   \n\n                                           rationale correct  \n0  If Q complete x kilometers, then P completes 1...       E  \n1  Line k passes through the origin and has slope...       C  \n2  p@q = p^2 - pq=p(p-q).... so p@q will be zero ...       B  \n3  Usually, you are given the annual rate of inte...       A  \n4  Speed of the boat downstream = 25 +11\\n= 36 km...       E  ",
      "text/html": "<div>\n<style scoped>\n    .dataframe tbody tr th:only-of-type {\n        vertical-align: middle;\n    }\n\n    .dataframe tbody tr th {\n        vertical-align: top;\n    }\n\n    .dataframe thead th {\n        text-align: right;\n    }\n</style>\n<table border=\"1\" class=\"dataframe\">\n  <thead>\n    <tr style=\"text-align: right;\">\n      <th></th>\n      <th>question</th>\n      <th>options</th>\n      <th>rationale</th>\n      <th>correct</th>\n    </tr>\n  </thead>\n  <tbody>\n    <tr>\n      <th>0</th>\n      <td>Two friends plan to walk along a 43-km trail, ...</td>\n      <td>[A)21, B)21.5, C)22, D)22.5, E)23]</td>\n      <td>If Q complete x kilometers, then P completes 1...</td>\n      <td>E</td>\n    </tr>\n    <tr>\n      <th>1</th>\n      <td>In the coordinate plane, points (x, 1) and (5,...</td>\n      <td>[A)4 and 1, B)1 and 5, C)5 and 1, D)3 and 5, E...</td>\n      <td>Line k passes through the origin and has slope...</td>\n      <td>C</td>\n    </tr>\n    <tr>\n      <th>2</th>\n      <td>For all numbers p and q, the operation @ is de...</td>\n      <td>[A)II, B)I and II, C)I and III, D)II and III, ...</td>\n      <td>p@q = p^2 - pq=p(p-q).... so p@q will be zero ...</td>\n      <td>B</td>\n    </tr>\n    <tr>\n      <th>3</th>\n      <td>Carl is facing very difficult financial times ...</td>\n      <td>[A)$1600, B)$2000, C)$2150, D)$2500, E)$12000]</td>\n      <td>Usually, you are given the annual rate of inte...</td>\n      <td>A</td>\n    </tr>\n    <tr>\n      <th>4</th>\n      <td>The speed at which a man can row a boat in sti...</td>\n      <td>[A)18 seconds, B)27 seconds, C)26 seconds, D)1...</td>\n      <td>Speed of the boat downstream = 25 +11\\n= 36 km...</td>\n      <td>E</td>\n    </tr>\n  </tbody>\n</table>\n</div>"
     },
     "execution_count": 6,
     "metadata": {},
     "output_type": "execute_result"
    }
   ],
   "source": [
    "train_df = pd.DataFrame(train_data_raw)\n",
    "test_df = pd.DataFrame(test_data_raw)\n",
    "val_df = pd.DataFrame(val_data_rev)\n",
    "train_df.head()"
   ],
   "metadata": {
    "collapsed": false,
    "ExecuteTime": {
     "end_time": "2024-09-30T07:48:49.250756Z",
     "start_time": "2024-09-30T07:48:49.075223Z"
    }
   },
   "id": "87d49bd4f00fe35a"
  },
  {
   "cell_type": "markdown",
   "source": [
    "### Tokenization\n",
    "- for student, we will use the T5 tokenizer to tokenize the questions, options, and rationales.\n",
    "- for teacher, we will use ????"
   ],
   "metadata": {
    "collapsed": false
   },
   "id": "e94e9eb2223e5a3"
  },
  {
   "cell_type": "code",
   "execution_count": 7,
   "outputs": [
    {
     "data": {
      "text/plain": "tokenizer_config.json:   0%|          | 0.00/2.32k [00:00<?, ?B/s]",
      "application/vnd.jupyter.widget-view+json": {
       "version_major": 2,
       "version_minor": 0,
       "model_id": "a29c3560b17c4165b54205505f156f1a"
      }
     },
     "metadata": {},
     "output_type": "display_data"
    },
    {
     "data": {
      "text/plain": "spiece.model:   0%|          | 0.00/792k [00:00<?, ?B/s]",
      "application/vnd.jupyter.widget-view+json": {
       "version_major": 2,
       "version_minor": 0,
       "model_id": "fafce50f0bac4bfab500d020166c4e95"
      }
     },
     "metadata": {},
     "output_type": "display_data"
    },
    {
     "data": {
      "text/plain": "tokenizer.json:   0%|          | 0.00/1.39M [00:00<?, ?B/s]",
      "application/vnd.jupyter.widget-view+json": {
       "version_major": 2,
       "version_minor": 0,
       "model_id": "4ccedf3cd0284753aa36bca3a7a15592"
      }
     },
     "metadata": {},
     "output_type": "display_data"
    },
    {
     "name": "stderr",
     "output_type": "stream",
     "text": [
      "You are using the default legacy behaviour of the <class 'transformers.models.t5.tokenization_t5.T5Tokenizer'>. This is expected, and simply means that the `legacy` (previous) behavior will be used so nothing changes for you. If you want to use the new behaviour, set `legacy=False`. This should only be set if you understand what it means, and thoroughly read the reason why this was added as explained in https://github.com/huggingface/transformers/pull/24565\n"
     ]
    },
    {
     "data": {
      "text/plain": "                                            question  \\\n0  Two friends plan to walk along a 43-km trail, ...   \n1  In the coordinate plane, points (x, 1) and (5,...   \n2  For all numbers p and q, the operation @ is de...   \n3  Carl is facing very difficult financial times ...   \n4  The speed at which a man can row a boat in sti...   \n\n                                             options  \\\n0                 [A)21, B)21.5, C)22, D)22.5, E)23]   \n1  [A)4 and 1, B)1 and 5, C)5 and 1, D)3 and 5, E...   \n2  [A)II, B)I and II, C)I and III, D)II and III, ...   \n3     [A)$1600, B)$2000, C)$2150, D)$2500, E)$12000]   \n4  [A)18 seconds, B)27 seconds, C)26 seconds, D)1...   \n\n                                           rationale correct  \\\n0  If Q complete x kilometers, then P completes 1...       E   \n1  Line k passes through the origin and has slope...       C   \n2  p@q = p^2 - pq=p(p-q).... so p@q will be zero ...       B   \n3  Usually, you are given the annual rate of inte...       A   \n4  Speed of the boat downstream = 25 +11\\n= 36 km...       E   \n\n                                           input_ids  \\\n0  [tensor(11860), tensor(10), tensor(2759), tens...   \n1  [tensor(11860), tensor(10), tensor(86), tensor...   \n2  [tensor(11860), tensor(10), tensor(242), tenso...   \n3  [tensor(11860), tensor(10), tensor(7291), tens...   \n4  [tensor(11860), tensor(10), tensor(37), tensor...   \n\n                                      attention_mask  \\\n0  [tensor(1), tensor(1), tensor(1), tensor(1), t...   \n1  [tensor(1), tensor(1), tensor(1), tensor(1), t...   \n2  [tensor(1), tensor(1), tensor(1), tensor(1), t...   \n3  [tensor(1), tensor(1), tensor(1), tensor(1), t...   \n4  [tensor(1), tensor(1), tensor(1), tensor(1), t...   \n\n                                       rationale_ids  \\\n0  [tensor(6455), tensor(6318), tensor(15), tenso...   \n1  [tensor(6455), tensor(6318), tensor(15), tenso...   \n2  [tensor(6455), tensor(6318), tensor(15), tenso...   \n3  [tensor(6455), tensor(6318), tensor(15), tenso...   \n4  [tensor(6455), tensor(6318), tensor(15), tenso...   \n\n                            rationale_attention_mask  correct_index  \n0  [tensor(1), tensor(1), tensor(1), tensor(1), t...              4  \n1  [tensor(1), tensor(1), tensor(1), tensor(1), t...              2  \n2  [tensor(1), tensor(1), tensor(1), tensor(1), t...              1  \n3  [tensor(1), tensor(1), tensor(1), tensor(1), t...              0  \n4  [tensor(1), tensor(1), tensor(1), tensor(1), t...              4  ",
      "text/html": "<div>\n<style scoped>\n    .dataframe tbody tr th:only-of-type {\n        vertical-align: middle;\n    }\n\n    .dataframe tbody tr th {\n        vertical-align: top;\n    }\n\n    .dataframe thead th {\n        text-align: right;\n    }\n</style>\n<table border=\"1\" class=\"dataframe\">\n  <thead>\n    <tr style=\"text-align: right;\">\n      <th></th>\n      <th>question</th>\n      <th>options</th>\n      <th>rationale</th>\n      <th>correct</th>\n      <th>input_ids</th>\n      <th>attention_mask</th>\n      <th>rationale_ids</th>\n      <th>rationale_attention_mask</th>\n      <th>correct_index</th>\n    </tr>\n  </thead>\n  <tbody>\n    <tr>\n      <th>0</th>\n      <td>Two friends plan to walk along a 43-km trail, ...</td>\n      <td>[A)21, B)21.5, C)22, D)22.5, E)23]</td>\n      <td>If Q complete x kilometers, then P completes 1...</td>\n      <td>E</td>\n      <td>[tensor(11860), tensor(10), tensor(2759), tens...</td>\n      <td>[tensor(1), tensor(1), tensor(1), tensor(1), t...</td>\n      <td>[tensor(6455), tensor(6318), tensor(15), tenso...</td>\n      <td>[tensor(1), tensor(1), tensor(1), tensor(1), t...</td>\n      <td>4</td>\n    </tr>\n    <tr>\n      <th>1</th>\n      <td>In the coordinate plane, points (x, 1) and (5,...</td>\n      <td>[A)4 and 1, B)1 and 5, C)5 and 1, D)3 and 5, E...</td>\n      <td>Line k passes through the origin and has slope...</td>\n      <td>C</td>\n      <td>[tensor(11860), tensor(10), tensor(86), tensor...</td>\n      <td>[tensor(1), tensor(1), tensor(1), tensor(1), t...</td>\n      <td>[tensor(6455), tensor(6318), tensor(15), tenso...</td>\n      <td>[tensor(1), tensor(1), tensor(1), tensor(1), t...</td>\n      <td>2</td>\n    </tr>\n    <tr>\n      <th>2</th>\n      <td>For all numbers p and q, the operation @ is de...</td>\n      <td>[A)II, B)I and II, C)I and III, D)II and III, ...</td>\n      <td>p@q = p^2 - pq=p(p-q).... so p@q will be zero ...</td>\n      <td>B</td>\n      <td>[tensor(11860), tensor(10), tensor(242), tenso...</td>\n      <td>[tensor(1), tensor(1), tensor(1), tensor(1), t...</td>\n      <td>[tensor(6455), tensor(6318), tensor(15), tenso...</td>\n      <td>[tensor(1), tensor(1), tensor(1), tensor(1), t...</td>\n      <td>1</td>\n    </tr>\n    <tr>\n      <th>3</th>\n      <td>Carl is facing very difficult financial times ...</td>\n      <td>[A)$1600, B)$2000, C)$2150, D)$2500, E)$12000]</td>\n      <td>Usually, you are given the annual rate of inte...</td>\n      <td>A</td>\n      <td>[tensor(11860), tensor(10), tensor(7291), tens...</td>\n      <td>[tensor(1), tensor(1), tensor(1), tensor(1), t...</td>\n      <td>[tensor(6455), tensor(6318), tensor(15), tenso...</td>\n      <td>[tensor(1), tensor(1), tensor(1), tensor(1), t...</td>\n      <td>0</td>\n    </tr>\n    <tr>\n      <th>4</th>\n      <td>The speed at which a man can row a boat in sti...</td>\n      <td>[A)18 seconds, B)27 seconds, C)26 seconds, D)1...</td>\n      <td>Speed of the boat downstream = 25 +11\\n= 36 km...</td>\n      <td>E</td>\n      <td>[tensor(11860), tensor(10), tensor(37), tensor...</td>\n      <td>[tensor(1), tensor(1), tensor(1), tensor(1), t...</td>\n      <td>[tensor(6455), tensor(6318), tensor(15), tenso...</td>\n      <td>[tensor(1), tensor(1), tensor(1), tensor(1), t...</td>\n      <td>4</td>\n    </tr>\n  </tbody>\n</table>\n</div>"
     },
     "execution_count": 7,
     "metadata": {},
     "output_type": "execute_result"
    }
   ],
   "source": [
    "tokenizer = T5Tokenizer.from_pretrained('t5-small')\n",
    "\n",
    "def tokenize_record(row):\n",
    "    question_text = f\"Question: {row['question']} Options: {' '.join([f'({chr(65 + i)}) {opt}' for i, opt in enumerate(row['options'])])}\"\n",
    "    rationale_text = f\"Rationale: {row['rationale']}\"\n",
    "    \n",
    "    question_encoding = tokenizer(question_text, return_tensors='pt', padding='max_length', truncation=True)\n",
    "    rationale_encoding = tokenizer(rationale_text, return_tensors='pt', padding='max_length', truncation=True)\n",
    "\n",
    "    return pd.Series({\n",
    "        'input_ids': question_encoding['input_ids'].squeeze(),\n",
    "        'attention_mask': question_encoding['attention_mask'].squeeze(),\n",
    "        'rationale_ids': rationale_encoding['input_ids'].squeeze(),\n",
    "        'rationale_attention_mask': rationale_encoding['attention_mask'].squeeze(),\n",
    "        'correct_index': ord(row['correct']) - ord('A')\n",
    "    })\n",
    "\n",
    "tokenized_df = train_df.apply(tokenize_record, axis=1)\n",
    "train_df = pd.concat([train_df, tokenized_df], axis=1)\n",
    "train_df.head()"
   ],
   "metadata": {
    "collapsed": false,
    "ExecuteTime": {
     "end_time": "2024-09-30T07:49:40.323Z",
     "start_time": "2024-09-30T07:48:49.107216Z"
    }
   },
   "id": "2682e3141c10c60f"
  }
 ],
 "metadata": {
  "kernelspec": {
   "name": "dsci566",
   "language": "python",
   "display_name": "Python (dsci566)"
  },
  "language_info": {
   "codemirror_mode": {
    "name": "ipython",
    "version": 2
   },
   "file_extension": ".py",
   "mimetype": "text/x-python",
   "name": "python",
   "nbconvert_exporter": "python",
   "pygments_lexer": "ipython2",
   "version": "2.7.6"
  }
 },
 "nbformat": 4,
 "nbformat_minor": 5
}
